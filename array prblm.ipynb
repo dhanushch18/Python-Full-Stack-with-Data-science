{
  "nbformat": 4,
  "nbformat_minor": 0,
  "metadata": {
    "colab": {
      "provenance": [],
      "authorship_tag": "ABX9TyOL/tM9y6P5qq+SANcsy5c6",
      "include_colab_link": true
    },
    "kernelspec": {
      "name": "python3",
      "display_name": "Python 3"
    },
    "language_info": {
      "name": "python"
    }
  },
  "cells": [
    {
      "cell_type": "markdown",
      "metadata": {
        "id": "view-in-github",
        "colab_type": "text"
      },
      "source": [
        "<a href=\"https://colab.research.google.com/github/dhanushch18/Python-Full-Stack-with-Data-science/blob/main/array%20prblm.ipynb\" target=\"_parent\"><img src=\"https://colab.research.google.com/assets/colab-badge.svg\" alt=\"Open In Colab\"/></a>"
      ]
    },
    {
      "cell_type": "code",
      "execution_count": 1,
      "metadata": {
        "colab": {
          "base_uri": "https://localhost:8080/"
        },
        "id": "jQ_dRF_DQNwg",
        "outputId": "8714b9d1-d489-49e6-8f24-8ffc3dd460c6"
      },
      "outputs": [
        {
          "output_type": "stream",
          "name": "stdout",
          "text": [
            "[8, 9, 10]\n",
            "[8, 17, 10]\n",
            "[8, 17, 10, 4, 5, 6]\n",
            "[17, 10, 4, 5, 6]\n",
            "[4, 5, 6, 10, 17]\n",
            "[4, 5, 6, 25, 10, 17]\n",
            "[4, 5, 6, 25, 10, 17, 4, 5, 6, 25, 10, 17]\n"
          ]
        }
      ],
      "source": [
        "num=[8,9,10]\n",
        "print(num)\n",
        "\n",
        "#set [1] to 17\n",
        "\n",
        "num[1]=17\n",
        "print(num)\n",
        "\n",
        "#add 4,5 & 6 to end of list\n",
        "#num=[8,17,10]\n",
        "num.append(4)\n",
        "num.append(5)\n",
        "num.append(6)\n",
        "print(num)\n",
        "\n",
        "#remove first variable\n",
        "num.remove(8)\n",
        "print(num)\n",
        "\n",
        "#sorting the list\n",
        "\n",
        "num.sort()\n",
        "print(num)\n",
        "\n",
        "#insert 25 at index 3\n",
        "\n",
        "num.insert(3,25)\n",
        "print(num)\n",
        "\n",
        "#double the list\n",
        "num=num*2\n",
        "\n",
        "print(num)"
      ]
    }
  ]
}