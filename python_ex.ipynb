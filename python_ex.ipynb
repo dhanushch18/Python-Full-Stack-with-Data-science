{
  "nbformat": 4,
  "nbformat_minor": 0,
  "metadata": {
    "colab": {
      "provenance": [],
      "authorship_tag": "ABX9TyPih7hO5V3zlFWbtrMPq6TL",
      "include_colab_link": true
    },
    "kernelspec": {
      "name": "python3",
      "display_name": "Python 3"
    },
    "language_info": {
      "name": "python"
    }
  },
  "cells": [
    {
      "cell_type": "markdown",
      "metadata": {
        "id": "view-in-github",
        "colab_type": "text"
      },
      "source": [
        "<a href=\"https://colab.research.google.com/github/dhanushch18/Python-Full-Stack-with-Data-science/blob/main/python_ex.ipynb\" target=\"_parent\"><img src=\"https://colab.research.google.com/assets/colab-badge.svg\" alt=\"Open In Colab\"/></a>"
      ]
    },
    {
      "cell_type": "code",
      "execution_count": 1,
      "metadata": {
        "colab": {
          "base_uri": "https://localhost:8080/"
        },
        "id": "jaiKeLJr-qT5",
        "outputId": "6d4ce8b7-a36b-4119-d78d-753648646f57"
      },
      "outputs": [
        {
          "output_type": "stream",
          "name": "stdout",
          "text": [
            "Enter a num :7\n",
            "0\n",
            "1\n",
            "1\n",
            "2\n",
            "3\n",
            "5\n",
            "8\n",
            "13\n",
            "21\n"
          ]
        }
      ],
      "source": [
        "#fibonacii sequence\n",
        "a=0\n",
        "b=1\n",
        "num=int(input(\"Enter a num :\"))\n",
        "\n",
        "if num ==1:\n",
        "  print(a)\n",
        "else:\n",
        "  print(a)\n",
        "  print(b)\n",
        "  for i in range (1,num+1):\n",
        "    c=a+b\n",
        "    a=b\n",
        "    b=c\n",
        "    print(c)"
      ]
    },
    {
      "cell_type": "code",
      "source": [
        "#palindrome\n",
        "\n",
        "a=(input(\"Enter the word :\"))\n",
        "rev=a[::-1]\n",
        "\n",
        "if a == rev:\n",
        "  print(\"Palindrome \")\n",
        "else:\n",
        "  print(\"Not a Palindrome\")"
      ],
      "metadata": {
        "colab": {
          "base_uri": "https://localhost:8080/"
        },
        "id": "6xDnSEksAZKm",
        "outputId": "c27b0650-566b-4e28-d008-65f379ea6761"
      },
      "execution_count": 4,
      "outputs": [
        {
          "output_type": "stream",
          "name": "stdout",
          "text": [
            "Enter the word :malayalam\n",
            "Palindrome \n"
          ]
        }
      ]
    },
    {
      "cell_type": "code",
      "source": [],
      "metadata": {
        "id": "9BY8AetsDJJ1"
      },
      "execution_count": null,
      "outputs": []
    }
  ]
}