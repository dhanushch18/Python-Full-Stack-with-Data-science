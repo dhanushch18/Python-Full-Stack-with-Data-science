{
  "nbformat": 4,
  "nbformat_minor": 0,
  "metadata": {
    "colab": {
      "provenance": [],
      "authorship_tag": "ABX9TyNkvv+jNL4g7Fu7UZ6D6xd/",
      "include_colab_link": true
    },
    "kernelspec": {
      "name": "python3",
      "display_name": "Python 3"
    },
    "language_info": {
      "name": "python"
    }
  },
  "cells": [
    {
      "cell_type": "markdown",
      "metadata": {
        "id": "view-in-github",
        "colab_type": "text"
      },
      "source": [
        "<a href=\"https://colab.research.google.com/github/dhanushch18/Python-Full-Stack-with-Data-science/blob/main/Untitled8.ipynb\" target=\"_parent\"><img src=\"https://colab.research.google.com/assets/colab-badge.svg\" alt=\"Open In Colab\"/></a>"
      ]
    },
    {
      "cell_type": "code",
      "execution_count": 3,
      "metadata": {
        "colab": {
          "base_uri": "https://localhost:8080/"
        },
        "id": "MSxQzZhQQbK2",
        "outputId": "c68e3261-4e82-4984-e3da-8736cd8f2a7d"
      },
      "outputs": [
        {
          "output_type": "stream",
          "name": "stdout",
          "text": [
            "Enter a num :6\n",
            "Enter a num :8\n",
            "The sum is :  14\n"
          ]
        }
      ],
      "source": [
        "#sum of 2 num\n",
        "x=int(input(\"Enter a num :\"))\n",
        "y=int(input(\"Enter a num :\"))\n",
        "c=x+y\n",
        "print(\"The sum is : \",c)"
      ]
    },
    {
      "cell_type": "code",
      "source": [
        "#square root of num\n",
        "\n",
        "import math\n",
        "x=int(input(\"Enter a num:\"))\n",
        "s=math.sqrt(x)\n",
        "print(\"square root of the num : \",s)"
      ],
      "metadata": {
        "colab": {
          "base_uri": "https://localhost:8080/"
        },
        "id": "BXst1hOOVcl3",
        "outputId": "83a637e8-a698-4db5-ed22-140a360218d9"
      },
      "execution_count": 7,
      "outputs": [
        {
          "output_type": "stream",
          "name": "stdout",
          "text": [
            "Enter a num:16\n",
            "square root of the num :  4.0\n"
          ]
        }
      ]
    },
    {
      "cell_type": "code",
      "source": [],
      "metadata": {
        "id": "Jf9dP0WwV0x2"
      },
      "execution_count": null,
      "outputs": []
    }
  ]
}