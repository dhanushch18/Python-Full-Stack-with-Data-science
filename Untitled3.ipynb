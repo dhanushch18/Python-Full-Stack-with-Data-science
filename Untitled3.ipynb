{
  "nbformat": 4,
  "nbformat_minor": 0,
  "metadata": {
    "colab": {
      "provenance": [],
      "authorship_tag": "ABX9TyNAn7g4FX19uv3AAyXhVEwP",
      "include_colab_link": true
    },
    "kernelspec": {
      "name": "python3",
      "display_name": "Python 3"
    },
    "language_info": {
      "name": "python"
    }
  },
  "cells": [
    {
      "cell_type": "markdown",
      "metadata": {
        "id": "view-in-github",
        "colab_type": "text"
      },
      "source": [
        "<a href=\"https://colab.research.google.com/github/dhanushch18/Python-Full-Stack-with-Data-science/blob/main/Untitled3.ipynb\" target=\"_parent\"><img src=\"https://colab.research.google.com/assets/colab-badge.svg\" alt=\"Open In Colab\"/></a>"
      ]
    },
    {
      "cell_type": "code",
      "execution_count": null,
      "metadata": {
        "colab": {
          "base_uri": "https://localhost:8080/"
        },
        "id": "rHikUQ0Mw9EU",
        "outputId": "390d39ca-a871-4d4c-a4cc-fc434bdc49f5"
      },
      "outputs": [
        {
          "output_type": "stream",
          "name": "stdout",
          "text": [
            "hello world\n"
          ]
        }
      ],
      "source": [
        "print(\"hello world\")"
      ]
    },
    {
      "cell_type": "code",
      "source": [
        "a=10\n",
        "b=20\n",
        "print(\"first value is \"+str(a)+\" second is \"+str(b))"
      ],
      "metadata": {
        "colab": {
          "base_uri": "https://localhost:8080/"
        },
        "id": "wrHqf0ef48CX",
        "outputId": "916531b6-bd32-4b1c-c56a-92c9dea2a321"
      },
      "execution_count": null,
      "outputs": [
        {
          "output_type": "stream",
          "name": "stdout",
          "text": [
            "first value is 10 second is 20\n"
          ]
        }
      ]
    },
    {
      "cell_type": "code",
      "source": [
        "a=input(\"enter a no.\")\n",
        "b=input(\"enter a no.\")\n",
        "print(\"1st num \"+str(a),\"second no. is \"+(str(b)))\n"
      ],
      "metadata": {
        "id": "i7vm3vyW5pOr",
        "colab": {
          "base_uri": "https://localhost:8080/"
        },
        "outputId": "bd4c1f43-4121-4cba-df1f-f01053ac39d5"
      },
      "execution_count": null,
      "outputs": [
        {
          "output_type": "stream",
          "name": "stdout",
          "text": [
            "enter a no.6\n",
            "enter a no.7\n",
            "1st num 6 second no. is 7\n"
          ]
        }
      ]
    },
    {
      "cell_type": "code",
      "source": [
        "a=\"hi,how are u\"\n",
        "print(len(a))"
      ],
      "metadata": {
        "id": "swt8linK62W9",
        "colab": {
          "base_uri": "https://localhost:8080/"
        },
        "outputId": "4516d8a0-ca76-4dd6-fa2a-35dd881155ca"
      },
      "execution_count": null,
      "outputs": [
        {
          "output_type": "stream",
          "name": "stdout",
          "text": [
            "12\n"
          ]
        }
      ]
    },
    {
      "cell_type": "code",
      "source": [
        "a=4\n",
        "b=6\n",
        "c=a\n",
        "a=b\n",
        "print(c,a)"
      ],
      "metadata": {
        "id": "1W0NQ1U3xMZL",
        "colab": {
          "base_uri": "https://localhost:8080/"
        },
        "outputId": "bb6d8a49-d864-499f-801a-316100b762ac"
      },
      "execution_count": 1,
      "outputs": [
        {
          "output_type": "stream",
          "name": "stdout",
          "text": [
            "4 6\n"
          ]
        }
      ]
    },
    {
      "cell_type": "code",
      "source": [
        "a, b = 4,2\n",
        "\n",
        "x=int(input(\"Enter a num :\"))\n",
        "\n",
        "def func(x):\n",
        "    if(x==1):\n",
        "        sum = a+b\n",
        "        print(\"Add:\",+sum)\n",
        "    elif (x==2):\n",
        "        diff=a-b\n",
        "        print(\"Sub:\",+diff)\n",
        "    elif (x==3):\n",
        "        mult=a*b\n",
        "        print(\"Multiplication:\",+mult)\n",
        "    elif (x==4):\n",
        "        div=a/b\n",
        "        print(\"Division:\",+div)\n",
        "    else:\n",
        "        print(\"Invalid\")\n",
        "func(x)"
      ],
      "metadata": {
        "colab": {
          "base_uri": "https://localhost:8080/"
        },
        "id": "1jAUHnq9FGz6",
        "outputId": "264f362c-f0f4-4e4c-d06a-f4f0c2832abc"
      },
      "execution_count": 2,
      "outputs": [
        {
          "output_type": "stream",
          "name": "stdout",
          "text": [
            "Enter a num :3\n",
            "Multiplication: 8\n"
          ]
        }
      ]
    }
  ]
}